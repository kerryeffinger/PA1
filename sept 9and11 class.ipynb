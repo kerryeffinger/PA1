{
 "cells": [
  {
   "cell_type": "markdown",
   "metadata": {},
   "source": [
    "## prompt the user for 3 numbers and print the largest number"
   ]
  },
  {
   "cell_type": "code",
   "execution_count": 10,
   "metadata": {},
   "outputs": [
    {
     "name": "stdout",
     "output_type": "stream",
     "text": [
      "enter first number: 56\n",
      "enter second number: 67\n",
      "enter third number: 88\n"
     ]
    }
   ],
   "source": [
    "a = int(input('enter first number: '))\n",
    "b = int(input('enter second number: '))\n",
    "c = int(input('enter third number: '))"
   ]
  },
  {
   "cell_type": "code",
   "execution_count": 11,
   "metadata": {},
   "outputs": [
    {
     "name": "stdout",
     "output_type": "stream",
     "text": [
      "56 67 88\n"
     ]
    }
   ],
   "source": [
    "print (a,b,c)"
   ]
  },
  {
   "cell_type": "code",
   "execution_count": 12,
   "metadata": {},
   "outputs": [
    {
     "name": "stdout",
     "output_type": "stream",
     "text": [
      "88\n"
     ]
    }
   ],
   "source": [
    "max_num = a\n",
    "if b > max_num:\n",
    "    max_num = b\n",
    "if c > max_num:\n",
    "    max_num = c\n",
    "    \n",
    "print (max_num)    "
   ]
  },
  {
   "cell_type": "code",
   "execution_count": 16,
   "metadata": {},
   "outputs": [
    {
     "name": "stdout",
     "output_type": "stream",
     "text": [
      "enter a number (-1 to quit): 54\n",
      "enter a number (-1 to quit): 867\n",
      "enter a number (-1 to quit): 2345\n",
      "enter a number (-1 to quit): 45768\n",
      "enter a number (-1 to quit): 2342\n",
      "enter a number (-1 to quit): -1\n",
      "the largest number is 45768\n"
     ]
    }
   ],
   "source": [
    "# above code but w/ sentinal while loop\n",
    "\n",
    "current_num = int(input('enter a number (-1 to quit): '))\n",
    "max_num = 0\n",
    "\n",
    "while current_num > -1:\n",
    "    if current_num > max_num:\n",
    "        max_num = current_num\n",
    "        \n",
    "    current_num = int(input('enter a number (-1 to quit): '))\n",
    "print (\"the largest number is\", max_num)"
   ]
  },
  {
   "cell_type": "markdown",
   "metadata": {},
   "source": [
    "## calculate the MPG for a vehicle (miles_driven/gallons_used)\n",
    "\n",
    "\n",
    "\n",
    "\n",
    "\n",
    "\n"
   ]
  },
  {
   "cell_type": "code",
   "execution_count": 19,
   "metadata": {},
   "outputs": [
    {
     "name": "stdout",
     "output_type": "stream",
     "text": [
      "enter number of miles driven: 340\n",
      "enter number of gallons used: 12\n",
      "miles per gallon is 28.333333333333332\n"
     ]
    }
   ],
   "source": [
    "miles_driven = int(input(\"enter number of miles driven: \"))\n",
    "gallons_used = int(input(\"enter number of gallons used: \"))\n",
    "MPG = miles_driven / gallons_used\n",
    "\n",
    "print (\"miles per gallon is\", MPG)\n",
    "\n",
    "                         "
   ]
  },
  {
   "cell_type": "code",
   "execution_count": 22,
   "metadata": {},
   "outputs": [
    {
     "name": "stdout",
     "output_type": "stream",
     "text": [
      "enter number of miles driven: 456\n",
      "enter number of gallons used: 13\n",
      "miles per gallon is 35.07692307692308\n",
      "enter number of miles driven: 245\n",
      "enter number of gallons used: 7\n",
      "miles per gallon is 35.0\n",
      "enter number of miles driven: 567\n",
      "enter number of gallons used: 25\n",
      "miles per gallon is 22.68\n",
      "enter number of miles driven: -1\n"
     ]
    }
   ],
   "source": [
    "miles_driven = int(input(\"enter number of miles driven: \"))\n",
    "gallons_used = int(input(\"enter number of gallons used: \"))\n",
    "\n",
    "while miles_driven > -1:\n",
    "    MPG = miles_driven / gallons_used\n",
    "    print ('miles per gallon is', MPG)\n",
    "\n",
    "    miles_driven = int(input(\"enter number of miles driven: \"))\n",
    "    if(miles_driven > -1):\n",
    "        gallons_used = int(input(\"enter number of gallons used: \"))\n",
    "        \n",
    "        # -1 stops the code"
   ]
  },
  {
   "cell_type": "markdown",
   "metadata": {},
   "source": [
    "## how would you keep track of several tanks of gas to get overall mpg?\n",
    "\n",
    "### sept11 class"
   ]
  },
  {
   "cell_type": "code",
   "execution_count": 5,
   "metadata": {},
   "outputs": [
    {
     "name": "stdout",
     "output_type": "stream",
     "text": [
      "enter number of miles driven: 376\n",
      "enter number of gallons used: 12\n",
      "miles per gallon is 31.333333333333332\n",
      "enter number of miles driven: 367\n",
      "enter number of gallons used: 11\n",
      "miles per gallon is 33.36363636363637\n",
      "enter number of miles driven: 388\n",
      "enter number of gallons used: 13\n",
      "miles per gallon is 29.846153846153847\n",
      "enter number of miles driven: -1\n",
      "total miles driven: 1131\n",
      "total gallons used: 36\n",
      "Total MPG is 31.416666666666668\n"
     ]
    }
   ],
   "source": [
    "# accumulator variable, add new miles and galllons to total\n",
    "\n",
    "miles_driven = int(input(\"enter number of miles driven: \"))\n",
    "gallons_used = int(input(\"enter number of gallons used: \"))\n",
    "total_miles_driven = 0\n",
    "total_gallons_used = 0\n",
    "\n",
    "while miles_driven > -1:\n",
    "    MPG = miles_driven / gallons_used\n",
    "    print ('miles per gallon is', MPG)\n",
    "#below, accumulatiing miles and gallons\n",
    "    total_miles_driven += miles_driven\n",
    "    total_gallons_used += gallons_used\n",
    "    \n",
    "    miles_driven = int(input(\"enter number of miles driven: \"))\n",
    "    if(miles_driven > -1):\n",
    "        gallons_used = int(input(\"enter number of gallons used: \"))\n",
    "        \n",
    "total_mpg = total_miles_driven / total_gallons_used\n",
    "print(\"total miles driven:\", total_miles_driven)\n",
    "print(\"total gallons used:\", total_gallons_used)\n",
    "print(\"Total MPG is\", total_mpg)"
   ]
  },
  {
   "cell_type": "code",
   "execution_count": 6,
   "metadata": {},
   "outputs": [
    {
     "name": "stdout",
     "output_type": "stream",
     "text": [
      "enter number of miles driven: 345\n",
      "enter number of gallons used: 12.3\n",
      "miles per gallon is 28.048780487804876\n",
      "enter number of miles driven: -1\n"
     ]
    }
   ],
   "source": [
    "miles_driven = float(input(\"enter number of miles driven: \"))\n",
    "gallons_used = float(input(\"enter number of gallons used: \"))\n",
    "\n",
    "while miles_driven > -1:\n",
    "    MPG = miles_driven / gallons_used\n",
    "    print ('miles per gallon is', MPG)\n",
    "\n",
    "    miles_driven = float(input(\"enter number of miles driven: \"))\n",
    "    if(miles_driven > -1):\n",
    "        gallons_used = float(input(\"enter number of gallons used: \"))"
   ]
  },
  {
   "cell_type": "markdown",
   "metadata": {},
   "source": [
    "## range function,"
   ]
  },
  {
   "cell_type": "code",
   "execution_count": 16,
   "metadata": {},
   "outputs": [
    {
     "name": "stdout",
     "output_type": "stream",
     "text": [
      "0 *\n",
      "5 *\n",
      "10 *\n",
      "15 *\n",
      "20 *\n",
      "25 *\n",
      "30 *\n",
      "35 *\n",
      "40 *\n",
      "45 *\n"
     ]
    }
   ],
   "source": [
    "for i in range(0,50,5):\n",
    "    print (i,\"*\")\n",
    "    \n",
    "    #to count by 5s"
   ]
  },
  {
   "cell_type": "code",
   "execution_count": 18,
   "metadata": {},
   "outputs": [
    {
     "name": "stdout",
     "output_type": "stream",
     "text": [
      "50 52 54 56 58 60 62 64 66 68 70 72 74 76 78 80 82 84 86 88 90 92 94 96 98 "
     ]
    }
   ],
   "source": [
    "for i in range(50,100,2):\n",
    "    print (i, end=\" \")\n",
    "    \n",
    "    #start at 50, count by 2s"
   ]
  },
  {
   "cell_type": "code",
   "execution_count": 19,
   "metadata": {},
   "outputs": [
    {
     "name": "stdout",
     "output_type": "stream",
     "text": [
      "100 98 96 94 92 90 88 86 84 82 80 78 76 74 72 70 68 66 64 62 60 58 56 54 52 "
     ]
    }
   ],
   "source": [
    "for i in range(100,50,-2):\n",
    "    print (i, end=\" \")\n",
    "    # ( start, stop, step) \n",
    "    #to count backwards, step value is negative number!!"
   ]
  },
  {
   "cell_type": "code",
   "execution_count": 23,
   "metadata": {},
   "outputs": [
    {
     "name": "stdout",
     "output_type": "stream",
     "text": [
      "0\n",
      "1\n",
      "2\n",
      "3\n",
      "4\n",
      "5\n",
      "6\n",
      "7\n",
      "8\n",
      "9\n"
     ]
    }
   ],
   "source": [
    "for i in range(10):\n",
    "    print (i)\n"
   ]
  },
  {
   "cell_type": "code",
   "execution_count": 32,
   "metadata": {},
   "outputs": [],
   "source": [
    "from math import pi"
   ]
  },
  {
   "cell_type": "code",
   "execution_count": 36,
   "metadata": {},
   "outputs": [
    {
     "name": "stdout",
     "output_type": "stream",
     "text": [
      "3.14\n"
     ]
    }
   ],
   "source": [
    "print (f'{pi:.2f}')\n",
    "#syntax to round, or format number (pi)\n",
    "#pi: variable to format, .2f number of digits to print"
   ]
  },
  {
   "cell_type": "code",
   "execution_count": 37,
   "metadata": {},
   "outputs": [
    {
     "name": "stdout",
     "output_type": "stream",
     "text": [
      "3.141592653589793115997963\n"
     ]
    }
   ],
   "source": [
    "print (f'{pi:.24f}')"
   ]
  },
  {
   "cell_type": "code",
   "execution_count": 41,
   "metadata": {},
   "outputs": [
    {
     "name": "stdout",
     "output_type": "stream",
     "text": [
      "2354.34659999999985302565619349479675292968750000000000\n"
     ]
    }
   ],
   "source": [
    "x =2354.3466\n",
    "print (f'{x:.50f}')\n",
    "#changing from binary to float ? all the extra digits dont matter\n",
    "# only printing/truncating the variable, not changing it! \n",
    "# value is the same,will use full value in calculations"
   ]
  },
  {
   "cell_type": "code",
   "execution_count": 40,
   "metadata": {},
   "outputs": [
    {
     "name": "stdout",
     "output_type": "stream",
     "text": [
      "2354.35\n"
     ]
    }
   ],
   "source": [
    "x =2354.3466\n",
    "print (f'{x:.2f}')"
   ]
  },
  {
   "cell_type": "code",
   "execution_count": 42,
   "metadata": {},
   "outputs": [],
   "source": [
    "import decimal #imports everything in this package\n",
    "from decimal import Decimal #imports only the Decimal class"
   ]
  },
  {
   "cell_type": "code",
   "execution_count": 45,
   "metadata": {},
   "outputs": [
    {
     "name": "stdout",
     "output_type": "stream",
     "text": [
      "443.29 230.243634\n"
     ]
    }
   ],
   "source": [
    "from decimal import Decimal\n",
    "y = Decimal('443.29')\n",
    "x = Decimal('230.243634')\n",
    "print(y,x)"
   ]
  },
  {
   "cell_type": "code",
   "execution_count": 46,
   "metadata": {},
   "outputs": [
    {
     "data": {
      "text/plain": [
       "Decimal('1.925308388765267664251685673')"
      ]
     },
     "execution_count": 46,
     "metadata": {},
     "output_type": "execute_result"
    }
   ],
   "source": [
    "y/x #operations with the decimals"
   ]
  },
  {
   "cell_type": "code",
   "execution_count": 47,
   "metadata": {},
   "outputs": [
    {
     "data": {
      "text/plain": [
       "Decimal('673.533634')"
      ]
     },
     "execution_count": 47,
     "metadata": {},
     "output_type": "execute_result"
    }
   ],
   "source": [
    "y + x"
   ]
  },
  {
   "cell_type": "code",
   "execution_count": 44,
   "metadata": {},
   "outputs": [
    {
     "name": "stdout",
     "output_type": "stream",
     "text": [
      "443.29\n"
     ]
    }
   ],
   "source": [
    "import decimal\n",
    "y = decimal.Decimal(('443.29'))\n",
    "print(y)"
   ]
  },
  {
   "cell_type": "code",
   "execution_count": null,
   "metadata": {},
   "outputs": [],
   "source": []
  }
 ],
 "metadata": {
  "kernelspec": {
   "display_name": "Python 3",
   "language": "python",
   "name": "python3"
  },
  "language_info": {
   "codemirror_mode": {
    "name": "ipython",
    "version": 3
   },
   "file_extension": ".py",
   "mimetype": "text/x-python",
   "name": "python",
   "nbconvert_exporter": "python",
   "pygments_lexer": "ipython3",
   "version": "3.8.3"
  }
 },
 "nbformat": 4,
 "nbformat_minor": 4
}
