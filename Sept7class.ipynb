{
 "cells": [
  {
   "cell_type": "code",
   "execution_count": 7,
   "metadata": {},
   "outputs": [
    {
     "name": "stdout",
     "output_type": "stream",
     "text": [
      "1\n",
      "2\n",
      "3\n",
      "4\n",
      "5\n",
      "6\n",
      "7\n",
      "8\n",
      "9\n"
     ]
    }
   ],
   "source": [
    "x=1 #counter controlled-counting\n",
    "while x<10:\n",
    "    print(x)\n",
    "    x=x+1"
   ]
  },
  {
   "cell_type": "markdown",
   "metadata": {},
   "source": [
    "### sentinel controlled loops, input from user, or elsewhere\n",
    "### usually use while loop for this"
   ]
  },
  {
   "cell_type": "code",
   "execution_count": 35,
   "metadata": {},
   "outputs": [
    {
     "name": "stdout",
     "output_type": "stream",
     "text": [
      "65\n",
      "78\n",
      "89\n",
      "54\n",
      "23\n",
      "100\n",
      "56\n",
      "45\n",
      "39\n"
     ]
    }
   ],
   "source": [
    "numbers = [65,78,89,54,23,100,56,45,39] #this is a list\n",
    "for i in numbers: #can use any variable here\n",
    "    print (i)\n",
    "    "
   ]
  },
  {
   "cell_type": "code",
   "execution_count": 13,
   "metadata": {},
   "outputs": [
    {
     "name": "stdout",
     "output_type": "stream",
     "text": [
      "65 78 89 54 23 100 56 45 39 \n",
      "hello\n"
     ]
    }
   ],
   "source": [
    "for i in [65,78,89,54,23,100,56,45,39]: #can use any variable here, can pull from variable or from list within for statement\n",
    "    print (i, end=' ') #end parameter controls the character between outputs\n",
    "print()   #this makes a line return \n",
    "print('hello')"
   ]
  },
  {
   "cell_type": "code",
   "execution_count": 14,
   "metadata": {},
   "outputs": [
    {
     "name": "stdout",
     "output_type": "stream",
     "text": [
      "135 161 183 113 51 205 117 95 83 "
     ]
    }
   ],
   "source": [
    "numbers = [65,78,89,54,23,100,56,45,39] #this is a list\n",
    "for i in numbers: #can use any variable here\n",
    "    print (i*2+5, end=' ')"
   ]
  },
  {
   "cell_type": "code",
   "execution_count": 15,
   "metadata": {},
   "outputs": [
    {
     "name": "stdout",
     "output_type": "stream",
     "text": [
      "1\n",
      "2\n",
      "3\n",
      "4\n",
      "5\n",
      "6\n",
      "7\n",
      "8\n",
      "9\n",
      "10\n"
     ]
    }
   ],
   "source": [
    "for i in [1,2,3,4,5,6,7,8,9,10]: #can do this, but inefficient\n",
    "    print(i)"
   ]
  },
  {
   "cell_type": "code",
   "execution_count": 17,
   "metadata": {},
   "outputs": [
    {
     "name": "stdout",
     "output_type": "stream",
     "text": [
      "0 1 2 3 4 5 6 7 8 9 10 11 12 13 14 15 16 17 18 19 "
     ]
    }
   ],
   "source": [
    "for num in range(20):\n",
    "    print(num, end=' ')\n",
    "    \n",
    "#range function, starts with 0, 20 numbers    "
   ]
  },
  {
   "cell_type": "code",
   "execution_count": 18,
   "metadata": {},
   "outputs": [
    {
     "name": "stdout",
     "output_type": "stream",
     "text": [
      "1\n",
      "2\n",
      "3\n",
      "4\n",
      "5\n",
      "6\n",
      "7\n",
      "8\n",
      "9\n",
      "10\n",
      "11\n",
      "12\n",
      "13\n",
      "14\n",
      "15\n",
      "16\n",
      "17\n",
      "18\n",
      "19\n",
      "20\n"
     ]
    }
   ],
   "source": [
    "for num in range(20):\n",
    "    print (num+1)"
   ]
  },
  {
   "cell_type": "code",
   "execution_count": 20,
   "metadata": {},
   "outputs": [
    {
     "name": "stdout",
     "output_type": "stream",
     "text": [
      "10 20 30 40 50 60 70 80 90 100 110 120 130 140 150 160 170 180 190 200 210 220 230 240 250 260 270 280 290 300 310 320 330 340 350 360 370 380 390 400 410 420 430 440 450 460 470 480 490 500 "
     ]
    }
   ],
   "source": [
    "for num in range(50):\n",
    "    print ((num+1)*10, end = ' ')"
   ]
  },
  {
   "cell_type": "code",
   "execution_count": 21,
   "metadata": {},
   "outputs": [
    {
     "name": "stdout",
     "output_type": "stream",
     "text": [
      "this is number 0\n",
      "this is number 1\n",
      "this is number 2\n",
      "this is number 3\n",
      "this is number 4\n",
      "this is number 5\n",
      "this is number 6\n",
      "this is number 7\n",
      "this is number 8\n",
      "this is number 9\n"
     ]
    }
   ],
   "source": [
    "for num in range(10):\n",
    "    print('this is number',num)"
   ]
  },
  {
   "cell_type": "code",
   "execution_count": 23,
   "metadata": {},
   "outputs": [
    {
     "name": "stdout",
     "output_type": "stream",
     "text": [
      "26\n",
      "27\n",
      "28\n",
      "29\n"
     ]
    }
   ],
   "source": [
    "for num in range(30):\n",
    "    if num>25:\n",
    "        print(num)"
   ]
  },
  {
   "cell_type": "code",
   "execution_count": 26,
   "metadata": {},
   "outputs": [
    {
     "name": "stdout",
     "output_type": "stream",
     "text": [
      "65\n",
      "143\n",
      "232\n",
      "286\n",
      "309\n",
      "409\n",
      "465\n",
      "510\n",
      "549\n"
     ]
    }
   ],
   "source": [
    "total = 0\n",
    "numbers = [65,78,89,54,23,100,56,45,39]\n",
    "for num in numbers:\n",
    "    total = total + num\n",
    "    print(total)    #sum every time"
   ]
  },
  {
   "cell_type": "code",
   "execution_count": 27,
   "metadata": {},
   "outputs": [
    {
     "name": "stdout",
     "output_type": "stream",
     "text": [
      "549\n"
     ]
    }
   ],
   "source": [
    "total = 0\n",
    "numbers = [65,78,89,54,23,100,56,45,39]\n",
    "for num in numbers:\n",
    "    total = total + num\n",
    "print(total)  #only sum at end"
   ]
  },
  {
   "cell_type": "code",
   "execution_count": 29,
   "metadata": {},
   "outputs": [
    {
     "name": "stdout",
     "output_type": "stream",
     "text": [
      "549\n"
     ]
    }
   ],
   "source": [
    "#augmented assignments\n",
    "total = 0\n",
    "numbers = [65,78,89,54,23,100,56,45,39]\n",
    "for num in numbers:\n",
    "    total += num #same as above, shortcut \n",
    "print(total)"
   ]
  },
  {
   "cell_type": "code",
   "execution_count": 31,
   "metadata": {},
   "outputs": [
    {
     "name": "stdout",
     "output_type": "stream",
     "text": [
      "120\n"
     ]
    }
   ],
   "source": [
    "total = 1\n",
    "numbers = [1,2,3,4,5]\n",
    "for num in numbers:\n",
    "    total *= num  \n",
    "print(total)"
   ]
  },
  {
   "cell_type": "code",
   "execution_count": 34,
   "metadata": {},
   "outputs": [
    {
     "name": "stdout",
     "output_type": "stream",
     "text": [
      "0.008333333333333333\n"
     ]
    }
   ],
   "source": [
    "total = 1\n",
    "numbers = [1,2,3,4,5]\n",
    "for num in numbers:\n",
    "    total = total / num  \n",
    "print(total)"
   ]
  },
  {
   "cell_type": "code",
   "execution_count": 33,
   "metadata": {},
   "outputs": [
    {
     "name": "stdout",
     "output_type": "stream",
     "text": [
      "1329227995784915872903807060280344576\n"
     ]
    }
   ],
   "source": [
    "total = 2\n",
    "numbers = [1,2,3,4,5]\n",
    "for num in numbers:\n",
    "    total **= num  #exponents, all this on page 88-89\n",
    "print(total)"
   ]
  },
  {
   "cell_type": "markdown",
   "metadata": {},
   "source": [
    "## from the text, page 87\n",
    "### for statements"
   ]
  },
  {
   "cell_type": "code",
   "execution_count": 1,
   "metadata": {},
   "outputs": [
    {
     "name": "stdout",
     "output_type": "stream",
     "text": [
      "P  r  o  g  r  a  m  m  i  n  g  "
     ]
    }
   ],
   "source": [
    "for character in 'Programming':\n",
    "    print (character, end=\"  \")"
   ]
  },
  {
   "cell_type": "code",
   "execution_count": null,
   "metadata": {},
   "outputs": [],
   "source": []
  }
 ],
 "metadata": {
  "kernelspec": {
   "display_name": "Python 3",
   "language": "python",
   "name": "python3"
  },
  "language_info": {
   "codemirror_mode": {
    "name": "ipython",
    "version": 3
   },
   "file_extension": ".py",
   "mimetype": "text/x-python",
   "name": "python",
   "nbconvert_exporter": "python",
   "pygments_lexer": "ipython3",
   "version": "3.8.3"
  }
 },
 "nbformat": 4,
 "nbformat_minor": 4
}
