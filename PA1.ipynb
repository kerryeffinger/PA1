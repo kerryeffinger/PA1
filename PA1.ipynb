{
 "cells": [
  {
   "cell_type": "code",
   "execution_count": 11,
   "metadata": {},
   "outputs": [
    {
     "name": "stdout",
     "output_type": "stream",
     "text": [
      "Enter a floating point number 4.5\n"
     ]
    }
   ],
   "source": [
    "value1 = float(input('Enter a floating point number '))"
   ]
  },
  {
   "cell_type": "code",
   "execution_count": 8,
   "metadata": {},
   "outputs": [
    {
     "name": "stdout",
     "output_type": "stream",
     "text": [
      "Enter an integer 8\n"
     ]
    }
   ],
   "source": [
    "value2 = int(input('Enter an integer '))"
   ]
  },
  {
   "cell_type": "code",
   "execution_count": 19,
   "metadata": {},
   "outputs": [
    {
     "name": "stdout",
     "output_type": "stream",
     "text": [
      "the sum is 12.5\n"
     ]
    }
   ],
   "source": [
    "a = value1 + value2\n",
    "print('the sum is', a)"
   ]
  },
  {
   "cell_type": "code",
   "execution_count": 20,
   "metadata": {},
   "outputs": [
    {
     "name": "stdout",
     "output_type": "stream",
     "text": [
      "the difference is -3.5\n"
     ]
    }
   ],
   "source": [
    "b = value1 - value2\n",
    "print('the difference is', b)"
   ]
  },
  {
   "cell_type": "code",
   "execution_count": 21,
   "metadata": {},
   "outputs": [
    {
     "name": "stdout",
     "output_type": "stream",
     "text": [
      "the product is 36.0\n"
     ]
    }
   ],
   "source": [
    "c = value1 * value2\n",
    "print('the product is', c)"
   ]
  },
  {
   "cell_type": "code",
   "execution_count": 22,
   "metadata": {},
   "outputs": [
    {
     "name": "stdout",
     "output_type": "stream",
     "text": [
      "the quotient is 0.5625\n"
     ]
    }
   ],
   "source": [
    "d = value1 / value2\n",
    "print('the quotient is', d)"
   ]
  },
  {
   "cell_type": "code",
   "execution_count": 28,
   "metadata": {},
   "outputs": [
    {
     "name": "stdout",
     "output_type": "stream",
     "text": [
      "the type for the result is <class 'float'>\n"
     ]
    }
   ],
   "source": [
    "t = type(a)\n",
    "t = type(b)\n",
    "t = type(c)\n",
    "t = type(d)\n",
    "print('the type for the result is', t)"
   ]
  }
 ],
 "metadata": {
  "kernelspec": {
   "display_name": "Python 3",
   "language": "python",
   "name": "python3"
  },
  "language_info": {
   "codemirror_mode": {
    "name": "ipython",
    "version": 3
   },
   "file_extension": ".py",
   "mimetype": "text/x-python",
   "name": "python",
   "nbconvert_exporter": "python",
   "pygments_lexer": "ipython3",
   "version": "3.8.3"
  }
 },
 "nbformat": 4,
 "nbformat_minor": 4
}
