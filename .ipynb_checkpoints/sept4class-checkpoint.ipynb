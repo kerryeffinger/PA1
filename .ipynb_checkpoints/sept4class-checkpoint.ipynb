{
 "cells": [
  {
   "cell_type": "markdown",
   "metadata": {},
   "source": [
    "Beginning of class (recording on Teams), instructions on pulling code form Github from each class session\n",
    "put Markdown header code on all your assignments (copy from moodle)\n",
    ",,example:\n",
    "\n",
    "# Programming Assignment X\n",
    "---\n",
    "**Author:** Robert Kelley  \n",
    "**Version:** 1.0  \n",
    "**Semester:** Fall 2020  \n",
    "\n",
    "This *notebook* contains my solution to **Programming Assignment X**\n",
    "\n",
    "- Problem 1:  Awesome first solution.\n",
    "- Problem 2: Awesome second solution.\n",
    "- Problem 3: Awesome third solution."
   ]
  },
  {
   "cell_type": "code",
   "execution_count": null,
   "metadata": {},
   "outputs": [],
   "source": [
    "x = 12\n",
    "if x==12:\n",
    "    print(x)\n",
    "elif x>12:\n",
    "    print(x-12)\n",
    "print(\"hello\")    \n",
    "\n",
    "# you dont have to put an else statement if you dont want to (else block is optional) --last not on if statement"
   ]
  },
  {
   "cell_type": "markdown",
   "metadata": {},
   "source": [
    "### counter-controlled while loop"
   ]
  },
  {
   "cell_type": "code",
   "execution_count": 21,
   "metadata": {},
   "outputs": [
    {
     "name": "stdout",
     "output_type": "stream",
     "text": [
      "0\n",
      "2\n",
      "4\n",
      "6\n",
      "8\n",
      "10\n"
     ]
    }
   ],
   "source": [
    "#while statements\n",
    "a = 0\n",
    "while a <= 10:\n",
    "    print(a)\n",
    "    a = a+2\n",
    "    \n",
    "    ##the loop control condition can be any calculation"
   ]
  },
  {
   "cell_type": "code",
   "execution_count": 8,
   "metadata": {},
   "outputs": [
    {
     "name": "stdout",
     "output_type": "stream",
     "text": [
      "1\n",
      "2\n",
      "4\n",
      "8\n"
     ]
    }
   ],
   "source": [
    "a=1\n",
    "stop = True\n",
    "while a<=10 and not stop==False:\n",
    "    print(a)\n",
    "    a = a*2"
   ]
  },
  {
   "cell_type": "markdown",
   "metadata": {},
   "source": [
    "### sentinel-controlled while loop\n",
    "a sentinel is a value that you get from the user"
   ]
  },
  {
   "cell_type": "code",
   "execution_count": 22,
   "metadata": {},
   "outputs": [
    {
     "name": "stdout",
     "output_type": "stream",
     "text": [
      "would you like to continue?y\n",
      "hello\n",
      "Would you like to continue?Y\n",
      "hello\n",
      "Would you like to continue?n\n"
     ]
    }
   ],
   "source": [
    "go = input(\"would you like to continue?\")\n",
    "while go == \"y\"or go==\"Y\":\n",
    "    print (\"hello\")\n",
    "    go = input (\"Would you like to continue?\")"
   ]
  },
  {
   "cell_type": "markdown",
   "metadata": {},
   "source": [
    "### combine if/while"
   ]
  },
  {
   "cell_type": "code",
   "execution_count": 20,
   "metadata": {},
   "outputs": [
    {
     "name": "stdout",
     "output_type": "stream",
     "text": [
      "enter a number between 0 and 107\n",
      "high number\n",
      "would you like to enter another number? y/ny\n",
      "enter a number between 0 and 104\n",
      "low number\n",
      "would you like to enter another number? y/nn\n"
     ]
    }
   ],
   "source": [
    "go = \"y\"\n",
    "while go==\"y\":\n",
    "    number = int(input(\"enter a number between 0 and 10\"))\n",
    "    if number <=5 :\n",
    "        print(\"low number\")\n",
    "    else:\n",
    "        print(\"high number\")\n",
    "    go = input(\"would you like to enter another number? y/n\")   "
   ]
  }
 ],
 "metadata": {
  "kernelspec": {
   "display_name": "Python 3",
   "language": "python",
   "name": "python3"
  },
  "language_info": {
   "codemirror_mode": {
    "name": "ipython",
    "version": 3
   },
   "file_extension": ".py",
   "mimetype": "text/x-python",
   "name": "python",
   "nbconvert_exporter": "python",
   "pygments_lexer": "ipython3",
   "version": "3.8.3"
  }
 },
 "nbformat": 4,
 "nbformat_minor": 4
}
