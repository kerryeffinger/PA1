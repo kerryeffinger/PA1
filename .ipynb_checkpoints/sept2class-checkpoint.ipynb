{
 "cells": [
  {
   "cell_type": "markdown",
   "metadata": {},
   "source": [
    "\n",
    "<=  # less than or equal to\n",
    ">=  # greater than or equal to \n",
    "==  # test for equality\n",
    "!=  # NOT equals"
   ]
  },
  {
   "cell_type": "markdown",
   "metadata": {},
   "source": [
    "## this is a single-sides if"
   ]
  },
  {
   "cell_type": "code",
   "execution_count": 13,
   "metadata": {},
   "outputs": [
    {
     "name": "stdout",
     "output_type": "stream",
     "text": [
      "x is 10\n",
      "y is 13\n"
     ]
    }
   ],
   "source": [
    "x = 10\n",
    "y = 13\n",
    "if x>=12 or y<=20:\n",
    "    print ('x is',x)\n",
    "    print ('y is',y)"
   ]
  },
  {
   "cell_type": "markdown",
   "metadata": {},
   "source": [
    "## this is a double-sided if"
   ]
  },
  {
   "cell_type": "code",
   "execution_count": 26,
   "metadata": {},
   "outputs": [
    {
     "name": "stdout",
     "output_type": "stream",
     "text": [
      "5\n"
     ]
    }
   ],
   "source": [
    "a=5\n",
    "b=7\n",
    "c=11\n",
    "if (a>b and a>10) or c>10:\n",
    "    print(a)\n",
    "else:\n",
    "    print(b)"
   ]
  },
  {
   "cell_type": "code",
   "execution_count": 25,
   "metadata": {},
   "outputs": [
    {
     "name": "stdout",
     "output_type": "stream",
     "text": [
      "thor\n"
     ]
    }
   ],
   "source": [
    "# also works for strings  \n",
    "name = \"thor\"\n",
    "if name ==\"thor\" or name==\"captain america\":\n",
    "    print(name)"
   ]
  },
  {
   "cell_type": "code",
   "execution_count": 28,
   "metadata": {},
   "outputs": [
    {
     "name": "stdout",
     "output_type": "stream",
     "text": [
      "it is true\n"
     ]
    }
   ],
   "source": [
    "g = True\n",
    "if g:\n",
    "    print(\"it is true\")"
   ]
  },
  {
   "cell_type": "markdown",
   "metadata": {},
   "source": [
    "## this is a nested decision structure"
   ]
  },
  {
   "cell_type": "code",
   "execution_count": 34,
   "metadata": {},
   "outputs": [
    {
     "name": "stdout",
     "output_type": "stream",
     "text": [
      "enter a number: 78\n",
      "greater than 70\n"
     ]
    }
   ],
   "source": [
    "h = int(input('enter a number: '))\n",
    "\n",
    "if h>100:\n",
    "    print(\"greater than 100\")\n",
    "elif h>90:\n",
    "    print('greater than 90')\n",
    "elif h>80:\n",
    "    print('greater than 80')\n",
    "elif h>70:\n",
    "    print('greater than 70')\n",
    "else:\n",
    "    print(h)\n",
    "    \n",
    "    # \"falling down\" into next block or condition, usually done in order"
   ]
  },
  {
   "cell_type": "markdown",
   "metadata": {},
   "source": [
    "## examples from textbook: \n",
    "chapter 2 (page 63)"
   ]
  },
  {
   "cell_type": "code",
   "execution_count": 3,
   "metadata": {},
   "outputs": [
    {
     "name": "stdout",
     "output_type": "stream",
     "text": [
      "Enter two integers and I will tell you the relationships they satisfy\n",
      "enter first integer:4\n",
      "enter second integer:6\n",
      "4 is not equal to 6\n",
      "4 is less than 6\n"
     ]
    }
   ],
   "source": [
    "\"\"\"comparing integers using if statements and comparison operators\"\"\"\n",
    "\n",
    "print('Enter two integers and I will tell you', 'the relationships they satisfy')\n",
    "a = int(input(\"enter first integer:\"))\n",
    "b = int(input(\"enter second integer:\"))\n",
    "if a == b:\n",
    "    print(a, \"is equal to\", b)\n",
    "if a != b:\n",
    "    print (a, \"is not equal to\", b)\n",
    "if a < b:\n",
    "    print (a, \"is less than\", b)\n",
    "if a > b:\n",
    "    print (a, \"is greater than\", b)"
   ]
  },
  {
   "cell_type": "markdown",
   "metadata": {},
   "source": [
    "###page 69 (section 2.9)"
   ]
  },
  {
   "cell_type": "code",
   "execution_count": 4,
   "metadata": {},
   "outputs": [
    {
     "name": "stdout",
     "output_type": "stream",
     "text": [
      "enter the first integer5\n",
      "enter the second integer8\n",
      "enter the third integer2\n",
      "minimum value is 2\n"
     ]
    }
   ],
   "source": [
    "\"\"\"find the minimum of three values\"\"\"\n",
    "\n",
    "a = int(input('enter the first integer'))\n",
    "b = int(input('enter the second integer'))\n",
    "c = int(input('enter the third integer'))\n",
    "\n",
    "minimum = a\n",
    "\n",
    "if b < minimum:\n",
    "    minimum = b\n",
    "if c < minimum:\n",
    "    minimum = c\n",
    "    \n",
    "print ('minimum value is', minimum)    "
   ]
  },
  {
   "cell_type": "code",
   "execution_count": 8,
   "metadata": {},
   "outputs": [
    {
     "data": {
      "text/plain": [
       "23"
      ]
     },
     "execution_count": 8,
     "metadata": {},
     "output_type": "execute_result"
    }
   ],
   "source": [
    "\"\"\"using built-in functions\"\"\"\n",
    "\n",
    "min(23,36,90)"
   ]
  },
  {
   "cell_type": "code",
   "execution_count": 9,
   "metadata": {},
   "outputs": [
    {
     "data": {
      "text/plain": [
       "90"
      ]
     },
     "execution_count": 9,
     "metadata": {},
     "output_type": "execute_result"
    }
   ],
   "source": [
    "max(23,36,90)"
   ]
  },
  {
   "cell_type": "code",
   "execution_count": 10,
   "metadata": {},
   "outputs": [
    {
     "name": "stdout",
     "output_type": "stream",
     "text": [
      "range: 23 - 90\n"
     ]
    }
   ],
   "source": [
    "print('range:',min(23,36,90), '-', max(23,36,90))"
   ]
  },
  {
   "cell_type": "code",
   "execution_count": null,
   "metadata": {},
   "outputs": [],
   "source": []
  }
 ],
 "metadata": {
  "kernelspec": {
   "display_name": "Python 3",
   "language": "python",
   "name": "python3"
  },
  "language_info": {
   "codemirror_mode": {
    "name": "ipython",
    "version": 3
   },
   "file_extension": ".py",
   "mimetype": "text/x-python",
   "name": "python",
   "nbconvert_exporter": "python",
   "pygments_lexer": "ipython3",
   "version": "3.8.3"
  }
 },
 "nbformat": 4,
 "nbformat_minor": 4
}
